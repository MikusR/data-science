{
  "nbformat": 4,
  "nbformat_minor": 0,
  "metadata": {
    "colab": {
      "provenance": []
    },
    "kernelspec": {
      "name": "python3",
      "display_name": "Python 3"
    },
    "language_info": {
      "name": "python"
    }
  },
  "cells": [
    {
      "cell_type": "markdown",
      "source": [
        "1. Create a function that takes two arguments and returns their sum"
      ],
      "metadata": {
        "id": "LICgzV04mLaD"
      }
    },
    {
      "cell_type": "code",
      "execution_count": 10,
      "metadata": {
        "id": "fRtkjgenj7qV"
      },
      "outputs": [],
      "source": [
        "def sum(a, b):\n",
        "    return a + b\n"
      ]
    },
    {
      "cell_type": "code",
      "source": [
        "print(sum(1,2))"
      ],
      "metadata": {
        "colab": {
          "base_uri": "https://localhost:8080/"
        },
        "id": "2UmXaVdqnYLf",
        "outputId": "8e87b96b-204a-481e-e5bc-6328f13dc1f6"
      },
      "execution_count": 11,
      "outputs": [
        {
          "output_type": "stream",
          "name": "stdout",
          "text": [
            "3\n"
          ]
        }
      ]
    },
    {
      "cell_type": "markdown",
      "source": [
        "2. Create a function that takes two strings and concatenates them"
      ],
      "metadata": {
        "id": "f912HFf7orHu"
      }
    },
    {
      "cell_type": "code",
      "source": [
        "print (sum(\"string1\", \"string2\"))"
      ],
      "metadata": {
        "colab": {
          "base_uri": "https://localhost:8080/"
        },
        "id": "x_hjJchyozDn",
        "outputId": "7b5bee98-818d-482d-8943-cb9f8259e9d7"
      },
      "execution_count": 12,
      "outputs": [
        {
          "output_type": "stream",
          "name": "stdout",
          "text": [
            "string1string2\n"
          ]
        }
      ]
    },
    {
      "cell_type": "markdown",
      "source": [
        "3. Create a function that takes a number and returns all the numbers from 0 to that number"
      ],
      "metadata": {
        "id": "rR4x6KeEo_1n"
      }
    },
    {
      "cell_type": "code",
      "source": [
        "def numbers(number):\n",
        "  list = []\n",
        "  for i in range(number):\n",
        "    list.append(i)\n",
        "  return list"
      ],
      "metadata": {
        "id": "OnmBVrbmpDkC"
      },
      "execution_count": 13,
      "outputs": []
    },
    {
      "cell_type": "code",
      "source": [
        "print(numbers(8))"
      ],
      "metadata": {
        "colab": {
          "base_uri": "https://localhost:8080/"
        },
        "id": "ILOya84rpnaB",
        "outputId": "0fcd0be3-98e2-4b0f-96bc-f3f80aa872ca"
      },
      "execution_count": 14,
      "outputs": [
        {
          "output_type": "stream",
          "name": "stdout",
          "text": [
            "[0, 1, 2, 3, 4, 5, 6, 7]\n"
          ]
        }
      ]
    }
  ]
}