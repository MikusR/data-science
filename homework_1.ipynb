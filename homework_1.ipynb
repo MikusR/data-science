{
  "nbformat": 4,
  "nbformat_minor": 0,
  "metadata": {
    "colab": {
      "provenance": []
    },
    "kernelspec": {
      "name": "python3",
      "display_name": "Python 3"
    },
    "language_info": {
      "name": "python"
    }
  },
  "cells": [
    {
      "cell_type": "markdown",
      "source": [
        "1. Create a function that takes two arguments and returns their sum"
      ],
      "metadata": {
        "id": "LICgzV04mLaD"
      }
    },
    {
      "cell_type": "code",
      "execution_count": 2,
      "metadata": {
        "id": "fRtkjgenj7qV"
      },
      "outputs": [],
      "source": [
        "def sum(a, b):\n",
        "    return a + b\n"
      ]
    },
    {
      "cell_type": "code",
      "source": [
        "print(sum(1,2))"
      ],
      "metadata": {
        "id": "2UmXaVdqnYLf",
        "outputId": "66986253-c8d7-422c-cf59-fab2a94dac5e",
        "colab": {
          "base_uri": "https://localhost:8080/"
        }
      },
      "execution_count": 3,
      "outputs": [
        {
          "output_type": "stream",
          "name": "stdout",
          "text": [
            "3\n"
          ]
        }
      ]
    }
  ]
}